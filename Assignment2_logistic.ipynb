{
 "cells": [
  {
   "cell_type": "markdown",
   "metadata": {},
   "source": [
    "# problem 3 (15 points)"
   ]
  },
  {
   "cell_type": "markdown",
   "metadata": {},
   "source": [
    "Given the function f (x) = x^2 + 6x:"
   ]
  },
  {
   "cell_type": "markdown",
   "metadata": {},
   "source": [
    "1. Use derivative of f (x) to find the value of x that minimizes this function.\n",
    "(2 points)"
   ]
  },
  {
   "cell_type": "markdown",
   "metadata": {},
   "source": [
    "- f(x)' = 2x + \n",
    "6\n",
    "- suppose f(x)' = 0\n",
    "\n",
    "- 0 = 2x + 6\n",
    "\n",
    "- -2x = 6\n",
    "\n",
    "- x = -3\n",
    "\n",
    "Get the minumize value x = -3"
   ]
  },
  {
   "cell_type": "markdown",
   "metadata": {},
   "source": [
    "2. Use gradient descent to find the value of x that minimizes this function.\n",
    "Compare your answer with the previous part. (13 points)"
   ]
  },
  {
   "cell_type": "code",
   "execution_count": 38,
   "metadata": {},
   "outputs": [
    {
     "name": "stdout",
     "output_type": "stream",
     "text": [
      "found the minimum value: -3.000 at 65 iteration \n"
     ]
    }
   ],
   "source": [
    "import pandas as pd\n",
    "import numpy as np\n",
    "# Gradient Descent equation:\n",
    "# new w = old w  - alpha * f(x)dx\n",
    "# alpha = learning rate\n",
    "\n",
    "def df(x):\n",
    "    return (2 * x) + 6\n",
    "\n",
    "w = 5 # randomly choose inital point\n",
    "iteration_time = 100\n",
    "alpha = 0.1 # learning rate\n",
    "\n",
    "for i in range(iteration_time):\n",
    "    \n",
    "    gradient = df(w)\n",
    "    new_w = w - alpha * gradient\n",
    "    \n",
    "\n",
    "    if abs(new_w - w) < 1e-6: # set the limit to break the loop\n",
    "        break\n",
    "    w  = new_w\n",
    "\n",
    "print(f\"found the minimum value: {new_w:.3f} at {i} iteration \")"
   ]
  },
  {
   "cell_type": "markdown",
   "metadata": {},
   "source": [
    "# Problem 4 (35 points)"
   ]
  },
  {
   "cell_type": "markdown",
   "metadata": {},
   "source": [
    "The Space Shuttle Challenger disaster occurred on January 28, 1986, when it\n",
    "broke apart 73 seconds into its flight, leading to the deaths of its seven crew\n",
    "members. The spacecraft disintegrated over the Atlantic Ocean, off the coast\n",
    "of central Florida at 11:38 EST. Disintegration of the entire vehicle began after\n",
    "an O-ring seal in its right solid rocket booster failed at liftoff. Subsequently, a\n",
    "special commission was appointed to investigate the accident. The commission\n",
    "found that NASA disregarded warnings from engineers about the dangers of\n",
    "launching posed by the low temperatures of that morning, claiming that en-\n",
    "gineers could not provide a convincing argument against the launch (source:\n",
    "Wikipedia, Applied Probability for Engineers)."
   ]
  },
  {
   "cell_type": "markdown",
   "metadata": {},
   "source": [
    "File Oring.csv provides data on launch temperature and O-ring failure for\n",
    "the 24-space shuttle launches prior to the Challenger disaster. There are six\n",
    "O-rings used to seal field joints on the rocket motor assembly. A +1 in the\n",
    "O-rings indicates that at least one O-ring failure had occurred on that launch\n",
    "and a 0 indicates that no failure had occurred."
   ]
  },
  {
   "cell_type": "markdown",
   "metadata": {},
   "source": [
    "1. Normalize the launch temperature using the expression x−µ\n",
    "/ σ . (3 points)"
   ]
  },
  {
   "cell_type": "code",
   "execution_count": 39,
   "metadata": {},
   "outputs": [
    {
     "data": {
      "text/html": [
       "<div>\n",
       "<style scoped>\n",
       "    .dataframe tbody tr th:only-of-type {\n",
       "        vertical-align: middle;\n",
       "    }\n",
       "\n",
       "    .dataframe tbody tr th {\n",
       "        vertical-align: top;\n",
       "    }\n",
       "\n",
       "    .dataframe thead th {\n",
       "        text-align: right;\n",
       "    }\n",
       "</style>\n",
       "<table border=\"1\" class=\"dataframe\">\n",
       "  <thead>\n",
       "    <tr style=\"text-align: right;\">\n",
       "      <th></th>\n",
       "      <th>Temp</th>\n",
       "      <th>Failure</th>\n",
       "      <th>Noramlize Temp</th>\n",
       "    </tr>\n",
       "  </thead>\n",
       "  <tbody>\n",
       "    <tr>\n",
       "      <th>0</th>\n",
       "      <td>53</td>\n",
       "      <td>1</td>\n",
       "      <td>-2.342325</td>\n",
       "    </tr>\n",
       "    <tr>\n",
       "      <th>1</th>\n",
       "      <td>56</td>\n",
       "      <td>1</td>\n",
       "      <td>-1.926937</td>\n",
       "    </tr>\n",
       "    <tr>\n",
       "      <th>2</th>\n",
       "      <td>57</td>\n",
       "      <td>1</td>\n",
       "      <td>-1.788475</td>\n",
       "    </tr>\n",
       "    <tr>\n",
       "      <th>3</th>\n",
       "      <td>63</td>\n",
       "      <td>0</td>\n",
       "      <td>-0.957699</td>\n",
       "    </tr>\n",
       "    <tr>\n",
       "      <th>4</th>\n",
       "      <td>66</td>\n",
       "      <td>0</td>\n",
       "      <td>-0.542312</td>\n",
       "    </tr>\n",
       "  </tbody>\n",
       "</table>\n",
       "</div>"
      ],
      "text/plain": [
       "   Temp  Failure  Noramlize Temp\n",
       "0    53        1       -2.342325\n",
       "1    56        1       -1.926937\n",
       "2    57        1       -1.788475\n",
       "3    63        0       -0.957699\n",
       "4    66        0       -0.542312"
      ]
     },
     "execution_count": 39,
     "metadata": {},
     "output_type": "execute_result"
    }
   ],
   "source": [
    "data = pd.read_csv('ORing.csv')\n",
    "# µ = mean\n",
    "# σ = standard deviation\n",
    "x = data['Temp'].values\n",
    "u = np.mean(x)\n",
    "std_dev = np.std(x)\n",
    "normal_x = (x - u) / std_dev\n",
    "# add to DataFrame\n",
    "data['Noramlize Temp'] = normal_x\n",
    "data.head()"
   ]
  },
  {
   "cell_type": "markdown",
   "metadata": {},
   "source": [
    "2. Create a logistic regression model using the gradient decent technique to\n",
    "predict the probability of O-ring failure based on the launch temperature.\n",
    "Provide the equation for your model. You can NOT use built-in packages\n",
    "for this problem. (20 points)"
   ]
  },
  {
   "cell_type": "markdown",
   "metadata": {},
   "source": [
    "$$\n",
    "\\nabla_{\\mathbf{w}} J(\\mathbf{w}) = \\frac{1}{m} \\mathbf{X}^T \\left( h_{\\mathbf{w}}(\\mathbf{X}) - \\mathbf{y} \\right)\n",
    "$$"
   ]
  },
  {
   "cell_type": "code",
   "execution_count": 55,
   "metadata": {},
   "outputs": [
    {
     "data": {
      "text/plain": [
       "array([-0.8497899 , -0.92039882])"
      ]
     },
     "execution_count": 55,
     "metadata": {},
     "output_type": "execute_result"
    }
   ],
   "source": [
    "# Logistic funcion\n",
    "def segmoid(z):\n",
    "    equation = 1 / (1 + np.exp(-z))\n",
    "    return equation\n",
    "\n",
    "\n",
    "# Logistic regression\n",
    "\n",
    "train_x = data['Noramlize Temp'].values\n",
    "train_y = data['Failure'].values\n",
    "\n",
    "# Add bias in order to do calculation\n",
    "# should use tuple to stack the arrray\n",
    "train_x_bias = np.column_stack((np.ones(train_x.shape), train_x))\n",
    "learning_rate = 0.01\n",
    "\n",
    "# get the shpae value from the data\n",
    "m, n = train_x_bias.shape\n",
    "\n",
    "# the shape of w should match the number of feature\n",
    "    # create the empty w\n",
    "inital_w = np.zeros(n)\n",
    "\n",
    "for i in range(1000):\n",
    "    z = np.dot(train_x_bias, inital_w)\n",
    "    predict = segmoid(z)\n",
    "    # Based on the equation\n",
    "    gradient = train_x_bias.T @ (predict - train_y) / m\n",
    "\n",
    "    new_w = inital_w - learning_rate * gradient\n",
    "    inital_w = new_w\n",
    "\n",
    "new_w"
   ]
  },
  {
   "cell_type": "markdown",
   "metadata": {},
   "source": [
    "3. Provide a plot of the original data along with your logistic model. (5\n",
    "points)"
   ]
  },
  {
   "cell_type": "code",
   "execution_count": 70,
   "metadata": {},
   "outputs": [
    {
     "data": {
      "image/png": "[encoded data removed]",
      "text/plain": [
       "<Figure size 800x600 with 1 Axes>"
      ]
     },
     "metadata": {},
     "output_type": "display_data"
    }
   ],
   "source": [
    "import matplotlib.pyplot as plt\n",
    "\n",
    "# generate the range\n",
    "x_range = np.linspace(train_x.min(), train_x.max(), 100)\n",
    "# get the clean data with bias\n",
    "x_range_bias = np.column_stack((np.ones(x_range.shape), x_range))\n",
    "\n",
    "# get y value based on new weight\n",
    "y_val = segmoid(x_range_bias @ new_w)\n",
    "\n",
    "plt.figure(figsize=(8, 6))\n",
    "\n",
    "plt.scatter(train_x, train_y, label='Original data points')\n",
    "plt.plot(x_range, y_val, linewidth =2, label = 'Logistic Regression curve', color='red')\n",
    "plt.title('Logistic Regression', fontsize = 16)\n",
    "plt.xlabel('Temperature')\n",
    "plt.ylabel('Failure')\n",
    "\n",
    "plt.legend()\n",
    "plt.show()"
   ]
  },
  {
   "cell_type": "markdown",
   "metadata": {},
   "source": [
    "4. The actual temperature at the Challenger launch was 31 degrees Fahren-\n",
    "heit. According to your model what was the probability of O-ring failure\n",
    "on the Challenger launch? Could the engineers have used your model to\n",
    "provide a convincing argument to NASA? Elaborate. (7 points)"
   ]
  },
  {
   "cell_type": "code",
   "execution_count": 77,
   "metadata": {},
   "outputs": [
    {
     "name": "stdout",
     "output_type": "stream",
     "text": [
      "When Temp: 31, the failure possibility: 0.984\n"
     ]
    }
   ],
   "source": [
    "# input x = 31\n",
    "# normalize again\n",
    "engin_temp_normal = (31 - u )/ std_dev\n",
    "# use logistic function to calculate the probability \n",
    "failure = segmoid(new_w[0] + new_w[1] * engin_temp_normal)\n",
    "\n",
    "print(f\"When Temp: 31, the failure possibility: {failure:.3f}\")"
   ]
  },
  {
   "cell_type": "markdown",
   "metadata": {},
   "source": [
    "According the result, the O-ring have 98% chance will crush"
   ]
  }
 ],
 "metadata": {
  "kernelspec": {
   "display_name": "master",
   "language": "python",
   "name": "python3"
  },
  "language_info": {
   "codemirror_mode": {
    "name": "ipython",
    "version": 3
   },
   "file_extension": ".py",
   "mimetype": "text/x-python",
   "name": "python",
   "nbconvert_exporter": "python",
   "pygments_lexer": "ipython3",
   "version": "3.12.8"
  }
 },
 "nbformat": 4,
 "nbformat_minor": 2
}
